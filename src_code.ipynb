{
 "cells": [
  {
   "cell_type": "markdown",
   "id": "a1b026d3",
   "metadata": {},
   "source": [
    "# Fifa 22 EDA with Linear Regression using L1 Regularization (Lasso)\n",
    "![alt text](FIFA-22-cover.jpg)"
   ]
  },
  {
   "cell_type": "markdown",
   "id": "ff0a8edc",
   "metadata": {},
   "source": [
    "## Contents:\n",
    "* [1. Introduction](#1)\n",
    "* [2. Understanding Football](#2)\n",
    "* [3. Goal Statement](#3)\n",
    "* [4. Data Collection](#4)\n",
    "    * [4.1 Importing Libraries](#4.1)\n",
    "    * [4.2 Loading Dataset](#4.2)\n",
    "* [5. Data Collection](#5)\n",
    "* [6. Exploratory Data Analysis](#6)\n",
    "    * [6.1 Data Insights](#6.1)\n",
    "    * [6.2 Data Analysis](#6.2)\n",
    "* [7. Train-Valid-Test Split](#7)\n",
    "* [8. Model Selection & Hyperparameter Tuning](#8)\n",
    "    * [8.1 Linear Regression](#8.1)\n",
    "    * [8.2 Least Absolute Shrinkage and Selection Operator (LASSO)(L1)](#8.2)\n",
    "    * [8.3 Hyperparamter Tuning](#8.3)\n",
    "* [9. Model Performance on Test](#9)\n",
    "* [10. Final Observations](#10)\n",
    "* [11. Conclusion](#11)\n",
    "* [12. References](#12)"
   ]
  },
  {
   "cell_type": "markdown",
   "id": "7094720c",
   "metadata": {},
   "source": [
    "- - - \n",
    "## 1. Introduction <a class=\"anchor\" id=\"1\"></a>\n",
    "\n",
    "> To begin with, Fifa 22 is a simulation video game based on **Football**. In the video game, **Overall Rating** is the common metric used to rank football players. Being a football fan myself, I've wondered what influences this metric and how can it be predicted using different attributes of the player. In this section, I'll be demonstrating and explaining the process and workflow of the problem undertaken.\n"
   ]
  },
  {
   "cell_type": "markdown",
   "id": "eca45997",
   "metadata": {},
   "source": [
    "- - -\n",
    "## 2. Understanding Football <a class=\"anchor\" id=\"2\"></a>\n",
    "\n",
    "> - Football is a 11v11 player game consisting of `10 outfield players and 1 goalkeeper.` \n",
    "> - Both the teams should coordinate passes and kick the ball into their respective oppositions net(guarded by the goalkeeper) to obtain 1 goal(point).\n",
    "> - Each game lasts for about 90 minutes with a 15 minutes break after 45 minutes. \n",
    "> - The team with highest number of goals at the end wins the game.\n",
    "> - Any fouls committed have consequences with player being warned or sent off.\n",
    "> - 3-5 substitutions are allowed depending on the league.\n",
    "> - The players can be grouped into 4 groups based on their positions:\n",
    ">> - Attackers\n",
    ">> - Midfielders\n",
    ">> - Defenders\n",
    ">> - GoalKeepers\n",
    "> - There are also players falling under multiple groups.\n",
    "> - These are only the basics of football and there's so much more to this beautiful game.\n",
    "\n"
   ]
  },
  {
   "cell_type": "markdown",
   "id": "8854aac4",
   "metadata": {},
   "source": [
    "![alt text](Lineup.jpg)"
   ]
  },
  {
   "cell_type": "markdown",
   "id": "43381219",
   "metadata": {},
   "source": [
    "- - -\n",
    "## 3. Goal Statement <a class=\"anchor\" id=\"3\"></a>\n",
    "\n",
    "> Predicting the overall rating of the outfield players using supervised learning method(with tunable hyper-parameter) and comparing the results of the undertaken models.\n",
    "\n"
   ]
  },
  {
   "cell_type": "markdown",
   "id": "87cb36eb",
   "metadata": {},
   "source": [
    "- - -\n",
    "## 4. Data Collection <a class=\"anchor\" id=\"4\"></a>"
   ]
  },
  {
   "cell_type": "markdown",
   "id": "bec2aff9",
   "metadata": {},
   "source": [
    "\n",
    "### 4.1 Importing Libraries <a class=\"anchor\" id=\"4.1\"></a>"
   ]
  },
  {
   "cell_type": "code",
   "execution_count": null,
   "id": "cf6b20af",
   "metadata": {},
   "outputs": [],
   "source": [
    "# Imported all the necessary libraries required\n",
    "import eli5\n",
    "import numpy as np\n",
    "import pandas as pd\n",
    "import seaborn as sns\n",
    "import matplotlib.pyplot as plt\n",
    "from sklearn.metrics import r2_score\n",
    "from sklearn.linear_model import Lasso\n",
    "from eli5.sklearn import PermutationImportance\n",
    "from sklearn.model_selection import GridSearchCV\n",
    "from sklearn.linear_model import LinearRegression\n",
    "from sklearn.model_selection import train_test_split\n",
    "from sklearn.metrics import r2_score, mean_squared_error"
   ]
  },
  {
   "cell_type": "markdown",
   "id": "a702e019",
   "metadata": {},
   "source": [
    "- - -\n",
    "### 4.2 Loading Data Set <a class=\"anchor\" id=\"4.2\"></a>"
   ]
  },
  {
   "cell_type": "code",
   "execution_count": null,
   "id": "70e4eb5f",
   "metadata": {},
   "outputs": [],
   "source": [
    "fifa_original=pd.read_csv('players_22.csv')"
   ]
  },
  {
   "cell_type": "code",
   "execution_count": null,
   "id": "b77ea1f2",
   "metadata": {},
   "outputs": [],
   "source": [
    "# displayed the head of the data set \n",
    "fifa_original.head(10)"
   ]
  },
  {
   "cell_type": "markdown",
   "id": "276c8530",
   "metadata": {},
   "source": [
    "- - -\n",
    "## 5. Data Cleaning <a class=\"anchor\" id=\"5\"></a>"
   ]
  },
  {
   "cell_type": "code",
   "execution_count": null,
   "id": "11870276",
   "metadata": {
    "scrolled": true
   },
   "outputs": [],
   "source": [
    "# displaying the info of the dataset to understand the proportions of the rows and columns present(including their data types)\n",
    "fifa_original.info()"
   ]
  },
  {
   "cell_type": "code",
   "execution_count": null,
   "id": "7d7a04e7",
   "metadata": {},
   "outputs": [],
   "source": [
    "# dropping all the unecessary columns which do not contribute to the process\n",
    "fifa_original = fifa_original.drop(['sofifa_id',\n",
    "                                   'player_url',\n",
    "                                   'long_name',\n",
    "                                   'league_level',\n",
    "                                   'player_positions',\n",
    "                                   'body_type',\n",
    "                                   'real_face',\n",
    "                                   'release_clause_eur',\n",
    "                                   'player_tags',\n",
    "                                   'club_jersey_number',\n",
    "                                   'club_loaned_from',\n",
    "                                   'club_contract_valid_until',\n",
    "                                   'club_joined',\n",
    "                                   'nation_position',\n",
    "                                   'nation_jersey_number',\n",
    "                                   'player_traits',\n",
    "                                   'defending_marking_awareness',\n",
    "                                   'dob',\n",
    "                                   'nation_team_id',\n",
    "                                   'nationality_id',\n",
    "                                   'club_team_id'],axis=1)"
   ]
  },
  {
   "cell_type": "code",
   "execution_count": null,
   "id": "3c9eca5e",
   "metadata": {
    "scrolled": true
   },
   "outputs": [],
   "source": [
    "# Checking and displaying columns containing null values(NaN) in the data set \n",
    "fifa_original.columns[fifa_original.isna().any()].tolist()"
   ]
  },
  {
   "cell_type": "code",
   "execution_count": null,
   "id": "4e1537fa",
   "metadata": {},
   "outputs": [],
   "source": [
    "# Dropped players that do not have any \"Value_eur\" in the market i.e un-registered player \n",
    "fifa_original = fifa_original[fifa_original.value_eur.notna()]\n",
    "\n",
    "# Doing this also eliminated players without any club name, league name, wage and club position \n",
    "fifa_original.columns[fifa_original.isna().any()].tolist()\n",
    "\n",
    "# Displaying columns that still contain null values "
   ]
  },
  {
   "cell_type": "code",
   "execution_count": null,
   "id": "ea62f141",
   "metadata": {},
   "outputs": [],
   "source": [
    "# It is evident from the output that goalkeepers are the reason for most of the null(NaN) values \n",
    "fifa_GK = fifa_original[fifa_original[\"club_position\"].isin(['GK'])]\n",
    "fifa_GK[['pace','shooting','passing','dribbling','defending','physic']]"
   ]
  },
  {
   "cell_type": "code",
   "execution_count": null,
   "id": "b7fbcbf9",
   "metadata": {},
   "outputs": [],
   "source": [
    "# Since the goal is to predict the overall of the \"Outfield players\" only, we can drop the goalkeepers\n",
    "fifa_original = fifa_original.drop(fifa_original[fifa_original[\"club_position\"].isin(['GK'])].index)\n",
    "# Dropped all the goal keepers from the data set"
   ]
  },
  {
   "cell_type": "code",
   "execution_count": null,
   "id": "3578a915",
   "metadata": {},
   "outputs": [],
   "source": [
    "# Still some remaining null values in the below columns \n",
    "fifa_original.columns[fifa_original.isna().any()].tolist()"
   ]
  },
  {
   "cell_type": "code",
   "execution_count": null,
   "id": "5ce4decc",
   "metadata": {},
   "outputs": [],
   "source": [
    "# The remaining null values are also goalkeepers who are in the substitute and reserve positions \n",
    "fifa_original_null = fifa_original[fifa_original.isna().any(axis=1)]\n",
    "fifa_original_null[['short_name',\"club_position\"]]"
   ]
  },
  {
   "cell_type": "code",
   "execution_count": null,
   "id": "9b8c5c2b",
   "metadata": {},
   "outputs": [],
   "source": [
    "# Dropped all the remaining rows which contain null values \n",
    "fifa_original = fifa_original.dropna()"
   ]
  },
  {
   "cell_type": "code",
   "execution_count": null,
   "id": "78d5b102",
   "metadata": {},
   "outputs": [],
   "source": [
    "# No null values present \n",
    "fifa_original.columns[fifa_original.isna().any()].tolist()"
   ]
  },
  {
   "cell_type": "code",
   "execution_count": null,
   "id": "91da98b8",
   "metadata": {},
   "outputs": [],
   "source": [
    "# Checked for uneccessary columns \n",
    "fifa_original.columns\n"
   ]
  },
  {
   "cell_type": "code",
   "execution_count": null,
   "id": "582514dc",
   "metadata": {},
   "outputs": [],
   "source": [
    "# Dropped the columns related to goalkeeper attributes(which are of no use now)\n",
    "fifa_original = fifa_original.drop(['goalkeeping_diving',\n",
    "                                   'goalkeeping_handling',\n",
    "                                    'goalkeeping_kicking',\n",
    "                                    'goalkeeping_positioning',\n",
    "                                    'goalkeeping_reflexes'],axis=1)"
   ]
  },
  {
   "cell_type": "markdown",
   "id": "6e2ff449",
   "metadata": {},
   "source": [
    "- - -\n",
    "## 6. Exploratory Data Analysis  <a class=\"anchor\" id=\"6\"></a>"
   ]
  },
  {
   "cell_type": "markdown",
   "id": "2fab0e30",
   "metadata": {},
   "source": [
    "### 6.1 Data Insights <a class=\"anchor\" id=\"6.1\"></a>"
   ]
  },
  {
   "cell_type": "code",
   "execution_count": null,
   "id": "7735aaca",
   "metadata": {
    "scrolled": true
   },
   "outputs": [],
   "source": [
    "# Displayed top 5 countries with highest number of players \n",
    "print('Total number of countries : {0}'.format(fifa_original['nationality_name'].nunique()))\n",
    "print(fifa_original['nationality_name'].value_counts().head(5))"
   ]
  },
  {
   "cell_type": "code",
   "execution_count": null,
   "id": "60e06db5",
   "metadata": {},
   "outputs": [],
   "source": [
    "# Displayed top 5 players with the highest overall ratings \n",
    "fifa_original.groupby(['short_name'])['overall'].max().sort_values(ascending = False).head()"
   ]
  },
  {
   "cell_type": "code",
   "execution_count": null,
   "id": "02c45a9b",
   "metadata": {},
   "outputs": [],
   "source": [
    "# Displayed top 5 players with the highest potential \n",
    "fifa_original.groupby(['short_name'])['potential'].max().sort_values(ascending = False).head()"
   ]
  },
  {
   "cell_type": "code",
   "execution_count": null,
   "id": "1e571645",
   "metadata": {},
   "outputs": [],
   "source": [
    "# Displayed top 5 players with the highest value \n",
    "fifa_original.groupby(['short_name'])['value_eur'].max().sort_values(ascending = False).head()"
   ]
  },
  {
   "cell_type": "code",
   "execution_count": null,
   "id": "d25ff0d1",
   "metadata": {},
   "outputs": [],
   "source": [
    "# Displayed top 5 players with the highest weekly wage\n",
    "fifa_original.groupby(['short_name'])['wage_eur'].max().sort_values(ascending = False).head()"
   ]
  },
  {
   "cell_type": "markdown",
   "id": "8672faeb",
   "metadata": {},
   "source": [
    "> **<font size=\"3\"> Takeaways</font>**\n",
    "> - `England` is the country with the highest population of football players folllowed by `Germany`, `France`, `Spain` and `Argentina`\n",
    "> - `Lionel Messi`(L.Messi) is the highest rated football player\n",
    "> - `Kylian Mbappe`(K.Mbappe) is the player with highest potential\n",
    "> - Although `L.Messi` is the highest rated player, `K.Mbappe` has the highest value\n",
    "> - `Kevin De Bryune`(K.De Bryune) earns the highest weekly wage"
   ]
  },
  {
   "cell_type": "markdown",
   "id": "f04c1909",
   "metadata": {},
   "source": [
    "- - -\n",
    "### 6.2 Data Analysis <a class=\"anchor\" id=\"6.2\"></a>"
   ]
  },
  {
   "cell_type": "code",
   "execution_count": null,
   "id": "69da8cc6",
   "metadata": {},
   "outputs": [],
   "source": [
    "# Generated a lineplot that displays bivariate analysis of player age and player potential\n",
    "sns.lineplot(fifa_original['age'],fifa_original['potential'],color='red').set(title=' Age vs Potential')\n",
    "sns.set(rc = {'figure.figsize':(15,8)})\n",
    "sns.set_style(\"whitegrid\")\n",
    "plt.xlabel(\"Age\")\n",
    "plt.ylabel(\"Potential\")\n"
   ]
  },
  {
   "cell_type": "code",
   "execution_count": null,
   "id": "706c3d88",
   "metadata": {},
   "outputs": [],
   "source": [
    "# Generated a lineplot that displays bivariate analysis of player age and player pace\n",
    "sns.lineplot(fifa_original['age'],fifa_original['pace'],color='darkorange').set(title=' Age vs Pace')\n",
    "sns.set(rc = {'figure.figsize':(15,8)})\n",
    "sns.set_style(\"whitegrid\")\n",
    "plt.xlabel(\"Age\")\n",
    "plt.ylabel(\"Pace\")"
   ]
  },
  {
   "cell_type": "code",
   "execution_count": null,
   "id": "acf3dc23",
   "metadata": {},
   "outputs": [],
   "source": [
    "# Generated a lineplot that displays bivariate analysis of player age and player physical\n",
    "sns.lineplot(fifa_original['age'],fifa_original['physic'],color='blue').set(title='Age vs Physical')\n",
    "sns.set(rc = {'figure.figsize':(15,8)})\n",
    "sns.set_style(\"whitegrid\")\n",
    "plt.xlabel(\"Age\")\n",
    "plt.ylabel(\"Physical\")"
   ]
  },
  {
   "cell_type": "code",
   "execution_count": null,
   "id": "f4ac0cc5",
   "metadata": {},
   "outputs": [],
   "source": [
    "# Generated a lineplot that displays bivariate analysis of player overall ratings and player potential\n",
    "sns.lineplot(fifa_original['overall'],fifa_original['potential'],color='black').set(title='Overall vs Potential')\n",
    "sns.set(rc = {'figure.figsize':(15,8)})\n",
    "sns.set_style(\"whitegrid\")\n",
    "plt.xlabel(\"Overall\")\n",
    "plt.ylabel(\"Potential\")"
   ]
  },
  {
   "cell_type": "code",
   "execution_count": null,
   "id": "5608fef0",
   "metadata": {},
   "outputs": [],
   "source": [
    "# Generated a jointplot that displays bivariate analysis of player weight and player height\n",
    "sns.jointplot(x=fifa_original['weight_kg'], y=fifa_original['height_cm'], kind=\"hex\", color=\"darkblue\")\n",
    "sns.set(rc = {'figure.figsize':(15,8)})\n",
    "sns.set_style(\"white\")\n",
    "plt.xlabel(\"Weight\")\n",
    "plt.ylabel(\"Height\")"
   ]
  },
  {
   "cell_type": "code",
   "execution_count": null,
   "id": "fac86389",
   "metadata": {},
   "outputs": [],
   "source": [
    "# Generated a histplot that displays univariate analysis of player preferred foot\n",
    "sns.histplot(fifa_original[\"preferred_foot\"],color='black').set(title='Preferred Foot - Left Vs Right')\n",
    "sns.set(rc = {'figure.figsize':(15,8)})\n",
    "sns.set_style(\"whitegrid\")\n",
    "plt.xlabel(\"Preferred Foot\")"
   ]
  },
  {
   "cell_type": "code",
   "execution_count": null,
   "id": "2c6dc233",
   "metadata": {},
   "outputs": [],
   "source": [
    "# Generated a histplot that displays univariate analysis of player work rate with player preferred foot \n",
    "sns.histplot(x='work_rate',data=fifa_original,hue=fifa_original['preferred_foot']).set(title='Work Rate - Left Vs Right foot')\n",
    "sns.set(rc = {'figure.figsize':(15,8)})\n",
    "sns.set_style(\"whitegrid\")\n",
    "plt.xlabel(\"Work Rate\")"
   ]
  },
  {
   "cell_type": "code",
   "execution_count": null,
   "id": "afd07ae3",
   "metadata": {},
   "outputs": [],
   "source": [
    "# Generated a point that displays bivariate analysis of player skill moves and player value \n",
    "sns.pointplot(x='skill_moves',y='value_eur',data=fifa_original,color='darkorange').set(title = \"Skill moves vs Value\")\n",
    "sns.set(rc = {'figure.figsize':(15,8)})\n",
    "sns.set_style(\"whitegrid\")\n",
    "plt.xlabel(\"Skill Moves\")\n",
    "plt.ylabel(\"Value\")"
   ]
  },
  {
   "cell_type": "markdown",
   "id": "c4f0ad09",
   "metadata": {},
   "source": [
    "> **<font size=\"3\"> Takeaways</font>**\n",
    "> - Player's `potential` gradually decreases as they grow old \n",
    "> - Player's `pace` significantly decreases as they grow old \n",
    "> - The player's `physical` steadily increases, and gradually declines once they reach 30 years \n",
    "> - The player's `overall` sharply increases with the increase in their `potential`\n",
    "> - Most of the players are between 70kgs to 85kgs `weight` class and 175cm to 185cm `height` class\n",
    "> - `right footed` players are 3 times more than `left footed` players\n",
    "> - Approximately `6000` `right footed` and `2000` `left footed` players have `medium/medium` workrate followed by `high/medium` workrate which is half of the former \n",
    "> - The `value` of a player increases with increase in `skill moves` rating"
   ]
  },
  {
   "cell_type": "code",
   "execution_count": null,
   "id": "983c0792",
   "metadata": {},
   "outputs": [],
   "source": [
    "# Dropped columns uneccessary to the model (mostly categorical) and assigned it to a new data frame \"\"\n",
    "fifa_model = fifa_original.drop(['short_name',\n",
    "                                'nationality_name',\n",
    "                                'club_name',\n",
    "                                'league_name',\n",
    "                                'club_position',\n",
    "                                'value_eur',\n",
    "                                'wage_eur',\n",
    "                                'preferred_foot',\n",
    "                                'work_rate',\n",
    "                                'international_reputation'],axis=1)"
   ]
  },
  {
   "cell_type": "code",
   "execution_count": null,
   "id": "53ed30dc",
   "metadata": {},
   "outputs": [],
   "source": [
    "# Generated a plot to observe the correlation between target variable - overall and others\n",
    "correlation_overall = pd.DataFrame(fifa_model.corr().overall).reset_index().sort_values(by = 'overall',ascending = False)\n",
    "sns.barplot(x = 'overall',y = 'index',data = correlation_overall)\n",
    "sns.set(rc = {'figure.figsize':(23,23)})"
   ]
  },
  {
   "cell_type": "markdown",
   "id": "6b8ec745",
   "metadata": {},
   "source": [
    "> **<font size=\"3\">Observations</font>**\n",
    "> - Every column has a positive correlation to the overall\n",
    "> - While `reactions` and `composure` have the highest correlation to the overall, `balance` and `height` have the least "
   ]
  },
  {
   "cell_type": "code",
   "execution_count": null,
   "id": "56be373d",
   "metadata": {
    "scrolled": false
   },
   "outputs": [],
   "source": [
    "# Checked for any uneccessary columns - there are none \n",
    "fifa_model.columns"
   ]
  },
  {
   "cell_type": "markdown",
   "id": "975f232a",
   "metadata": {},
   "source": [
    "- - -\n",
    "## 7. Train-Valid-Test Split <a class=\"anchor\" id=\"7\"></a>"
   ]
  },
  {
   "cell_type": "code",
   "execution_count": null,
   "id": "b1591406",
   "metadata": {
    "scrolled": false
   },
   "outputs": [],
   "source": [
    "# \"fifa_target\" consists of the target column - overall\n",
    "fifa_target = fifa_model.overall\n",
    "\n",
    "# \"fifa_train\" consists of all the columns excluding the target column\n",
    "fifa_train = fifa_model.drop(['overall'], axis = 1)\n",
    "\n",
    "# Performed Train:Rem split of 60:40 \n",
    "X_train, X_rem, y_train, y_rem = train_test_split(fifa_train,fifa_target, train_size=0.6)\n",
    "\n",
    "# Performed Valid:Test split of 20:20 from Rem split(20) \n",
    "X_valid, X_test, y_valid, y_test = train_test_split(X_rem,y_rem, test_size=0.5)\n",
    "\n",
    "# Displayed the shape of Train,Valid,Test after split\n",
    "print(X_train.shape), print(y_train.shape)\n",
    "print(X_valid.shape), print(y_valid.shape)\n",
    "print(X_test.shape), print(y_test.shape)"
   ]
  },
  {
   "cell_type": "markdown",
   "id": "faa14507",
   "metadata": {},
   "source": [
    "- - -\n",
    "## 8. Model Selection & Hyperparameter Tuning <a class=\"anchor\" id=\"8\"></a>"
   ]
  },
  {
   "cell_type": "markdown",
   "id": "f32960e2",
   "metadata": {},
   "source": [
    "### 8.1 Linear Regression<a class=\"anchor\" id=\"8.1\"></a>"
   ]
  },
  {
   "cell_type": "markdown",
   "id": "9825f51e",
   "metadata": {},
   "source": [
    "> **<font size=\"3\">Definition</font>**\n",
    "> - Linear Regression is a regression model that estimates the relationship between one independent variable and one dependent variable using a straight line\n",
    "\n",
    "> **<font size=\"3\">Overview</font>**\n",
    "> - Compute linear regression on our validation set\n",
    "> - Observe R2 value\n",
    "> - Observe Train and Validation accuracy \n",
    "\n",
    "> **<font size=\"3\">Formula</font>**\n",
    "$$\n",
    "Y_{i} =  f(X_{i},\\beta)+e_{i} \n",
    "$$\n",
    "> - $Y_{i}$ = Dependant Variable \n",
    "> - $f$ = Function\n",
    "> - $X_{i}$  = Independent Variable\n",
    "> - $\\beta$ = Unknown Parameters\n",
    "> - $e_{i}$ = Error Terms"
   ]
  },
  {
   "cell_type": "code",
   "execution_count": null,
   "id": "2d677221",
   "metadata": {},
   "outputs": [],
   "source": [
    "# Performed Linear Regression fit and prediction on validation set\n",
    "model = LinearRegression()\n",
    "model.fit(X_train, y_train)\n",
    "predictions = model.predict(X_valid)\n",
    "\n",
    "#Computed the r2 score \n",
    "print('r2 score: '+str(r2_score(y_valid, predictions)))"
   ]
  },
  {
   "cell_type": "markdown",
   "id": "bcb3c305",
   "metadata": {},
   "source": [
    "> -  The r squared score is the proportion of the variation in the dependent variable that is predictable from the independent variable\n",
    "> - Achieved a good r squared score in `Linear Regression`"
   ]
  },
  {
   "cell_type": "code",
   "execution_count": null,
   "id": "b5d3d1c5",
   "metadata": {},
   "outputs": [],
   "source": [
    "# Displayed R2 Accuracy\n",
    "print(\"Train R2 score for Linear Regression\")\n",
    "print(model.score(X_train,y_train))\n",
    "\n",
    "print(\"--------------------------------------------------------\")\n",
    "\n",
    "# Displayed R2 Accuracy\n",
    "print(\"Validation R2 Score for Linear Regression\")\n",
    "print(model.score(X_valid,y_valid))\n",
    "\n",
    "print(\"--------------------------------------------------------\")\n",
    "\n",
    "\n",
    "# Displayed Coefficients of the model \n",
    "print (\"Linear model:\", (model.coef_))"
   ]
  },
  {
   "cell_type": "markdown",
   "id": "6ffac4e7",
   "metadata": {},
   "source": [
    "- - -\n",
    "### 8.2 Least Absolute Shrinkage and Selection Operator (LASSO)(L1)<a class=\"anchor\" id=\"8.2\"></a>"
   ]
  },
  {
   "cell_type": "markdown",
   "id": "a4446662",
   "metadata": {},
   "source": [
    "> **<font size=\"3\">Definition</font>**\n",
    "> - Lasso Regression is a type of linear regression that uses shrinkage. Shrinkage is where data values are shrunk towards a central point, like the mean.\n",
    "\n",
    "> **<font size=\"3\">Regularization ?</font>**\n",
    "> - Regularization is the process which regularizes or shrinks the coefficients towards zero\n",
    "> - L1 Regularization adds a penalty equal to the absolute value of the magnitude of coefficients\n",
    "\n",
    "> **<font size=\"3\">Overview</font>**\n",
    "> - Compute Lasso regression/L1 regularization using different values of alpha (hyperparamter) on our validation set\n",
    "> - Obtain a good value for the hyper-parameter using GridSearchCV\n",
    "> - Observe Train and Validation accuracy \n",
    "> - Observe R2 value\n",
    "\n",
    "> **<font size=\"3\">Formula</font>**\n",
    "$$\n",
    "\\sum_{i=1}^{n}\\left ( y_{i}-\\sum_{j}x_{ij}\\beta_{j}\\right )^2+ \\lambda\\sum_{j=1}^{p}\\left | \\beta_{j} \\right |\n",
    "$$\n",
    "> - $\\lambda$ = Amount of shrinkage\n",
    "\n",
    "> **<font size=\"3\">Hyper-parameter</font>**\n",
    "> - λ is the hyper-parameter for l1 regularization ($\\alpha$ in the code)\n",
    "> - The bias increases with increase in λ\n",
    "> - Variance increases with decrease in λ\n",
    "> - Therefore finding an optimal value for λ is important for the accuracy of the model"
   ]
  },
  {
   "cell_type": "markdown",
   "id": "3ef7d6f5",
   "metadata": {},
   "source": [
    "- - -\n",
    "### 8.3 Hyperparamter Tuning <a class=\"anchor\" id=\"8.3\"></a>\n",
    "> <font size=\"3\">Experiment - 1</font>\n",
    "> - Alpha = 0"
   ]
  },
  {
   "cell_type": "code",
   "execution_count": null,
   "id": "76ec2ec5",
   "metadata": {},
   "outputs": [],
   "source": [
    "# Performed Lasso fit and predictions on validation set \n",
    "lasso = Lasso(alpha=0) # Alpha = 0 \n",
    "lasso.fit(X_train,y_train)\n",
    "predictions_l = lasso.predict(X_valid)\n",
    "\n",
    "# Displayed Train R2 Score\n",
    "print(\"Train R2 Score for LASSO\")\n",
    "print(lasso.score(X_train, y_train))\n",
    "\n",
    "print(\"--------------------------------------------------------\")\n",
    "\n",
    "# Displayed Validation R2 Score \n",
    "print(\"Validation R2 Score for LASSO\")\n",
    "print(lasso.score(X_valid, y_valid))\n",
    "\n",
    "print(\"--------------------------------------------------------\")\n",
    "\n",
    "# Displayed Coefficients of the model \n",
    "print (\"Lasso model:\", (lasso.coef_))\n"
   ]
  },
  {
   "cell_type": "markdown",
   "id": "c23b0dc7",
   "metadata": {},
   "source": [
    "> <font size=\"3\">Experiment - 2</font>\n",
    "> - Alpha = 10"
   ]
  },
  {
   "cell_type": "code",
   "execution_count": null,
   "id": "23572132",
   "metadata": {},
   "outputs": [],
   "source": [
    "# Performed Lasso fit and predictions on validation set \n",
    "lasso = Lasso(alpha=10) # Alpha = 10\n",
    "lasso.fit(X_train,y_train)\n",
    "predictions_l = lasso.predict(X_valid)\n",
    "\n",
    "# Displayed Train R2 Score\n",
    "print(\"Train R2 Score for LASSO\")\n",
    "print(lasso.score(X_train, y_train))\n",
    "\n",
    "print(\"--------------------------------------------------------\")\n",
    "\n",
    "# Displayed Validation R2 Score \n",
    "print(\"Validation R2 Score for LASSO\")\n",
    "print(lasso.score(X_valid, y_valid))\n",
    "\n",
    "print(\"--------------------------------------------------------\")\n",
    "\n",
    "# Displayed Coefficients of the model \n",
    "print (\"Lasso model:\", (lasso.coef_))"
   ]
  },
  {
   "cell_type": "markdown",
   "id": "dfcfdec6",
   "metadata": {},
   "source": [
    "> <font size=\"3\">Experiment - 3</font>\n",
    "> - Alpha = optimal"
   ]
  },
  {
   "cell_type": "code",
   "execution_count": null,
   "id": "b6db3be5",
   "metadata": {
    "scrolled": true
   },
   "outputs": [],
   "source": [
    "# note(1) - This block of code takes approx. 1minute 30secs to compile\n",
    "\n",
    "# Computed the best value for alpha \n",
    "params = {'alpha': (np.logspace(-8, 8, 100))} # It will check from 1e-08 to 1e+08 (optimal)\n",
    "lasso = Lasso(normalize=True)\n",
    "lasso_model = GridSearchCV(lasso, params, cv = 10)\n",
    "lasso_model.fit(X_train, y_train)\n",
    "print(lasso_model.best_params_)"
   ]
  },
  {
   "cell_type": "code",
   "execution_count": null,
   "id": "6bb5c721",
   "metadata": {
    "scrolled": false
   },
   "outputs": [],
   "source": [
    "# Performed Lasso fit and predictions on validation set \n",
    "lasso = Lasso(alpha=0.000024)\n",
    "lasso.fit(X_train,y_train)\n",
    "predictions_l = lasso.predict(X_valid)\n",
    "\n",
    "# Displayed Train R2 score\n",
    "print(\"Train R2 score for LASSO\")\n",
    "print(lasso.score(X_train, y_train))\n",
    "\n",
    "print(\"--------------------------------------------------------\")\n",
    "\n",
    "# Displayed Validation R2 score \n",
    "print(\"Validation R2 score for LASSO\")\n",
    "print(lasso.score(X_valid, y_valid))\n",
    "\n",
    "print(\"--------------------------------------------------------\")\n",
    "\n",
    "# Displayed Coefficients of the model \n",
    "print (\"Lasso model:\", (lasso.coef_))"
   ]
  },
  {
   "cell_type": "code",
   "execution_count": null,
   "id": "9a407ca4",
   "metadata": {},
   "outputs": [],
   "source": [
    "# Displayed the data which shows the weight of the features taken by the model\n",
    "perm = PermutationImportance(model, random_state=1).fit(X_valid, y_valid)\n",
    "eli5.show_weights(perm, feature_names = X_valid.columns.tolist())"
   ]
  },
  {
   "cell_type": "markdown",
   "id": "1dfc90cd",
   "metadata": {},
   "source": [
    "> **<font size=\"3\">Observations</font>**\n",
    "> - After the 3 experiments with different hyperparameter values these are the observations:\n",
    ">> - When alpha = 0, the estimate is similar to the one found in linear regression\n",
    ">> - When alpha = 10, almost all features are shrinked to 0 implying most of the features are not considered\n",
    ">> - When GridSearchCV is performed for an optimal value of alpha, the estimate is different to that of linear regression and also the shrinkage is moderate. There is no scope of dropping features here as no feature was shrunk to 0.\n",
    "> - Therefore, we choose the optimal value of alpha for our test set\n",
    "> - Potential, age and reactions are the 3 features with the most weights assigned \n",
    "> - The train R2 score decreased, causing less overfitting \n",
    "> - The R2 score has been noted for comparison"
   ]
  },
  {
   "cell_type": "markdown",
   "id": "4dc8ef50",
   "metadata": {},
   "source": [
    "- - -\n",
    "## 9. Model Performance on Test<a class=\"anchor\" id=\"9\"></a>"
   ]
  },
  {
   "cell_type": "markdown",
   "id": "7abe6724",
   "metadata": {},
   "source": [
    "> **<font size=\"3\">Overview</font>**\n",
    "> - Select the optimal value of alpha from the validation set\n",
    "> - Compute the linear regression and lasso regression on test set\n",
    "> - Observe the train and test accuracy\n"
   ]
  },
  {
   "cell_type": "code",
   "execution_count": null,
   "id": "b44e7e71",
   "metadata": {},
   "outputs": [],
   "source": [
    "# Performed Lasso fit and predictions on test set \n",
    "lasso = Lasso(alpha=0.000024)\n",
    "lasso.fit(X_train,y_train)\n",
    "predictions_l_test = lasso.predict(X_test)\n",
    "\n",
    "print(\"--------------------------------------------------------\")\n",
    "\n",
    "# Displayed Train R2 Score \n",
    "print(\"Train R2 Score for LASSO\")\n",
    "print(lasso.score(X_train, y_train))\n",
    "\n",
    "print(\"--------------------------------------------------------\")\n",
    "\n",
    "# Displayed Test R2 Score\n",
    "print(\"Test R2 Score for LASSO\")\n",
    "print(lasso.score(X_test, y_test))"
   ]
  },
  {
   "cell_type": "code",
   "execution_count": null,
   "id": "e7bc1eb5",
   "metadata": {},
   "outputs": [],
   "source": [
    "# Displayed the data which shows the weight of the features taken by the model\n",
    "perm = PermutationImportance(model, random_state=1).fit(X_test, y_test)\n",
    "eli5.show_weights(perm, feature_names = X_test.columns.tolist())"
   ]
  },
  {
   "cell_type": "markdown",
   "id": "e51656d0",
   "metadata": {},
   "source": [
    "> **<font size=\"3\">Observations</font>**\n",
    "> - Decreased Overfitting\n",
    "> - Potential,age and reactions are the features with the most weights assigned similar to validation set, but, the value of the weights are different \n",
    "> - The R2 score has been noted for comparison"
   ]
  },
  {
   "cell_type": "markdown",
   "id": "cf23b891",
   "metadata": {},
   "source": [
    "- - -\n",
    "## 10. Final Observations <a class=\"anchor\" id=\"10\"></a>"
   ]
  },
  {
   "cell_type": "code",
   "execution_count": null,
   "id": "2d69a3ed",
   "metadata": {},
   "outputs": [],
   "source": [
    "dict ={}\n",
    "\n",
    "dict1 = {1: [\"Linear Regression\", 93.74, 93.64,\"-\"],\n",
    "     2: [\"Lasso Regression\", 93.73,93.63,\"-\"],\n",
    "     3: [\"Lasso Regression\", 93.73,'-',93.76],\n",
    "     }\n",
    " \n",
    "print (\"{:<20} {:<10} {:<15} {:<15}\".format('Model','Train %', 'Validation %', 'Test %'))\n",
    " \n",
    "for key, value in dict1.items():\n",
    "    Model, Train, Validation,Test = value\n",
    "    print (\"{:<20} {:<10} {:<15} {:<15}\".format(Model, Train, Validation,Test))\n",
    "\n",
    "\n",
    "# Displayed all the observations of accuracies "
   ]
  },
  {
   "cell_type": "markdown",
   "id": "3c99ed9d",
   "metadata": {},
   "source": [
    "> - Although the validation R2 Score in Lasso Regression dropped compared to Linear Regression, overfitting (train R2 Score) of the data also dropped which is good for the model. \n",
    "> - Based on the hyperparameter tuning, I selected an optimal value for the alpha.\n",
    "> - Lasso model is chosen.\n",
    "> - The results on the test set were interesting as the R2 Score observed is good - `93.76%`\n",
    "> - The preferrence of the model is user dependant:\n",
    ">> - <font size=\"3\">Linear Regression:</font>\n",
    ">>> - High R2 Score\n",
    ">>> - Overfitting Data\n",
    ">> - <font size=\"3\">Lasso Regression:</font>\n",
    ">>> - Slightly less R2 Score\n",
    ">>> - Decreases overfitting of the data by shrinkage\n",
    ">>> - If the data is too large with more features, removes less important features(feature selection)"
   ]
  },
  {
   "cell_type": "markdown",
   "id": "61d401b9",
   "metadata": {},
   "source": [
    "- - -\n",
    "## 11. Conclusion <a class=\"anchor\" id=\"11\"></a>\n",
    "> One machine learning model is not fixed to one type of a problem. The selection of the model is user dependant and is based on what they are trying to achieve.\n",
    ">> <font size=\"3\">Learnings:</font>\n",
    ">> - Understood the importance of hyperparameter tuning in the model evaluation stage\n",
    ">> - Understood the functioning of l1 regularization\n",
    ">> - Gained some valuable insights from the data set using EDA\n",
    "\n",
    ">> <font size=\"3\">Improvements:</font>\n",
    ">> - More number of models with different complexities can be taken and experimented with.\n",
    "\n",
    "> Successfully predicted the overall rating of the outfield players using supervised learning method(using tunable hyperparameter), `with good R2 score`, and compared the results of the undertaken models"
   ]
  },
  {
   "cell_type": "markdown",
   "id": "f2459a8a",
   "metadata": {},
   "source": [
    "- - -\n",
    "## 12. References  <a class=\"anchor\" id=\"12\"></a>\n",
    "\n",
    "> - [Fifa 22 data set](https://www.kaggle.com/stefanoleone992/fifa-22-complete-player-dataset?select=players_22.csv)\n",
    "> - [Stack overflow](https://stackoverflow.com)\n",
    "> - [SheCanCode](https://shecancode.io/blog/univariate-and-bivariate-analysis-usingseaborn)\n",
    "> - [The Medium](https://medium.com)\n",
    "> - [Analytics Vidhya](https://www.analyticsvidhya.com)\n",
    "> - [Towards Data science](https://towardsdatascience.com)"
   ]
  },
  {
   "cell_type": "markdown",
   "id": "176368f8",
   "metadata": {},
   "source": [
    "# Thank You"
   ]
  }
 ],
 "metadata": {
  "kernelspec": {
   "display_name": "Python 3",
   "language": "python",
   "name": "python3"
  },
  "language_info": {
   "codemirror_mode": {
    "name": "ipython",
    "version": 3
   },
   "file_extension": ".py",
   "mimetype": "text/x-python",
   "name": "python",
   "nbconvert_exporter": "python",
   "pygments_lexer": "ipython3",
   "version": "3.8.8"
  }
 },
 "nbformat": 4,
 "nbformat_minor": 5
}
